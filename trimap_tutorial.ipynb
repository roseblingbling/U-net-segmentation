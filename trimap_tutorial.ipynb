{
 "cells": [
  {
   "cell_type": "markdown",
   "metadata": {},
   "source": [
    "### December 30, 2018 ###\n",
    "\n",
    "**1. Single Input Image** <br />\n",
    "Online Interactive Tutorial with Jupyter <br />\n",
    "Generate a trimap from an input of mask image"
   ]
  },
  {
   "cell_type": "code",
   "execution_count": 1,
   "metadata": {},
   "outputs": [],
   "source": [
    "%matplotlib inline\n",
    "from trimap_module import trimap\n",
    "import cv2, os, sys\n",
    "import numpy as np\n",
    "import matplotlib.pyplot as plt"
   ]
  },
  {
   "cell_type": "markdown",
   "metadata": {},
   "source": [
    "#### First, load the input image ####"
   ]
  },
  {
   "cell_type": "code",
   "execution_count": 16,
   "metadata": {},
   "outputs": [
    {
     "data": {
      "image/png": "[encoded data removed]",
      "text/plain": [
       "<Figure size 640x480 with 1 Axes>"
      ]
     },
     "metadata": {},
     "output_type": "display_data"
    }
   ],
   "source": [
    "name    = \"./images/practices/binary_ (1).png\";\n",
    "image     = cv2.imread(name, cv2.IMREAD_GRAYSCALE)\n",
    "plt.imshow(image,cmap='gray');\n",
    "plt.axis('off');"
   ]
  },
  {
   "cell_type": "markdown",
   "metadata": {},
   "source": [
    "**Next, plug all arguments to the trimap function**"
   ]
  },
  {
   "cell_type": "code",
   "execution_count": 17,
   "metadata": {},
   "outputs": [],
   "source": [
    "size = 10;         # Unknown Region Thickness\n",
    "number = name[-5]; # Obtain The Image Number (in case more than one image)\n",
    "title = \"binary_dilated\"\n",
    "\n",
    "height, width = image.shape[:2]\n",
    "trimap(image, title, size, number)"
   ]
  },
  {
   "cell_type": "markdown",
   "metadata": {},
   "source": [
    "**Check The Trimap Result**"
   ]
  },
  {
   "cell_type": "code",
   "execution_count": 4,
   "metadata": {},
   "outputs": [
    {
     "data": {
      "image/png": "[encoded data removed]",
      "text/plain": [
       "<Figure size 432x288 with 1 Axes>"
      ]
     },
     "metadata": {
      "needs_background": "light"
     },
     "output_type": "display_data"
    }
   ],
   "source": [
    "name  = \"./images/results/10px_binary_dilated_0.png\";\n",
    "result = cv2.imread(name, cv2.IMREAD_GRAYSCALE)\n",
    "plt.imshow(result,cmap='gray');\n",
    "plt.axis('off');"
   ]
  },
  {
   "cell_type": "markdown",
   "metadata": {},
   "source": [
    "### January 06, 2019 ###\n",
    "\n",
    "**2. More Than Single Input Images**"
   ]
  },
  {
   "cell_type": "code",
   "execution_count": 4,
   "metadata": {},
   "outputs": [],
   "source": [
    "size  = 10; # dilation size\n",
    "for i in range(1,52):\n",
    "    name   = \"./images/practices/binary_ ({}).png\".format(i); # Specify the image path\n",
    "    number = i;\n",
    "    title  = \"trimap\";\n",
    "    image  = cv2.imread(name, cv2.IMREAD_GRAYSCALE);\n",
    "    trimap(image, title, size, number, erosion = False);"
   ]
  },
  {
   "cell_type": "markdown",
   "metadata": {},
   "source": [
    "### February 12, 2019 ###\n",
    "\n",
    "**3. Error Handler** <br />\n",
    "**Case I:** Return an error, if any of the following four images is detected: RGB, grayscale, white-only, black-only (to be continues) <br />"
   ]
  },
  {
   "cell_type": "code",
   "execution_count": 12,
   "metadata": {},
   "outputs": [
    {
     "data": {
      "image/png": "[encoded data removed]",
      "text/plain": [
       "<Figure size 432x288 with 1 Axes>"
      ]
     },
     "metadata": {
      "needs_background": "light"
     },
     "output_type": "display_data"
    }
   ],
   "source": [
    "name  = \"./images/test_images/test_image_1.png\"; # ONLY test_image_0.png shall succeed\n",
    "image = cv2.imread(name, cv2.IMREAD_GRAYSCALE)\n",
    "plt.imshow(image,cmap='gray');\n",
    "plt.axis('off');"
   ]
  },
  {
   "cell_type": "code",
   "execution_count": 13,
   "metadata": {},
   "outputs": [
    {
     "name": "stdout",
     "output_type": "stream",
     "text": [
      "ERROR: non-binary image (all black)\n"
     ]
    },
    {
     "ename": "SystemExit",
     "evalue": "",
     "output_type": "error",
     "traceback": [
      "An exception has occurred, use %tb to see the full traceback.\n",
      "\u001b[1;31mSystemExit\u001b[0m\n"
     ]
    }
   ],
   "source": [
    "size = 10;         # Unknown Region Thickness\n",
    "number = name[-5]; # Obtain The Image Number (in case more than one image)\n",
    "title = \"test_image\"\n",
    "\n",
    "trimap(image, title, size, number, erosion=False)"
   ]
  },
  {
   "cell_type": "markdown",
   "metadata": {},
   "source": [
    "**Case II:** Return an error if the erosion has entirely wiped out the foreground"
   ]
  },
  {
   "cell_type": "code",
   "execution_count": 8,
   "metadata": {},
   "outputs": [
    {
     "data": {
      "image/png": "[encoded data removed]",
      "text/plain": [
       "<Figure size 432x288 with 1 Axes>"
      ]
     },
     "metadata": {
      "needs_background": "light"
     },
     "output_type": "display_data"
    }
   ],
   "source": [
    "name  = \"./images/test_images/test_image_0.png\";\n",
    "image = cv2.imread(name, cv2.IMREAD_GRAYSCALE)\n",
    "plt.imshow(image,cmap='gray');\n",
    "plt.axis('off');"
   ]
  },
  {
   "cell_type": "code",
   "execution_count": 9,
   "metadata": {},
   "outputs": [
    {
     "name": "stdout",
     "output_type": "stream",
     "text": [
      "ERROR: foreground has been entirely eroded\n"
     ]
    },
    {
     "ename": "SystemExit",
     "evalue": "",
     "output_type": "error",
     "traceback": [
      "An exception has occurred, use %tb to see the full traceback.\n",
      "\u001b[1;31mSystemExit\u001b[0m\n"
     ]
    }
   ],
   "source": [
    "size = 10;         # Unknown Region Thickness\n",
    "number = name[-5]; # Obtain The Image Number (in case more than one image)\n",
    "title = \"test_image\"\n",
    "\n",
    "trimap(image, title, size, number, erosion=50)"
   ]
  },
  {
   "cell_type": "code",
   "execution_count": null,
   "metadata": {},
   "outputs": [],
   "source": []
  }
 ],
 "metadata": {
  "kernelspec": {
   "display_name": "Python 3 (ipykernel)",
   "language": "python",
   "name": "python3"
  },
  "language_info": {
   "codemirror_mode": {
    "name": "ipython",
    "version": 3
   },
   "file_extension": ".py",
   "mimetype": "text/x-python",
   "name": "python",
   "nbconvert_exporter": "python",
   "pygments_lexer": "ipython3",
   "version": "3.11.7"
  }
 },
 "nbformat": 4,
 "nbformat_minor": 4
}
